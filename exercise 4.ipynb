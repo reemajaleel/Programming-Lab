{
 "cells": [
  {
   "cell_type": "code",
   "execution_count": 1,
   "metadata": {},
   "outputs": [
    {
     "name": "stdout",
     "output_type": "stream",
     "text": [
      "enter a string: reema\n",
      "the new string is: aeemr\n"
     ]
    }
   ],
   "source": [
    "#program to change a given string to new string by interchanging first and last characters\n",
    "string=str(input(\"enter a string: \"))\n",
    "s1=string[-1]\n",
    "s2=string[1:-1]\n",
    "s3=string[0]\n",
    "s4=s1+s2+s3\n",
    "print(\"the new string is:\",s4)"
   ]
  },
  {
   "cell_type": "code",
   "execution_count": 2,
   "metadata": {},
   "outputs": [
    {
     "name": "stdout",
     "output_type": "stream",
     "text": [
      "enter a string: abcde\n",
      "the new string is: abde\n"
     ]
    }
   ],
   "source": [
    "#program to get a string made first two and last two characters from a given string\n",
    "string=str(input(\"enter a string: \"))\n",
    "s1=string[0:2]\n",
    "s2=string[-2:]\n",
    "s3=s1+s2\n",
    "print(\"the new string is:\",s3)"
   ]
  },
  {
   "cell_type": "code",
   "execution_count": 10,
   "metadata": {},
   "outputs": [
    {
     "name": "stdout",
     "output_type": "stream",
     "text": [
      "enter a string: hello\n",
      "enter a second string: world\n",
      "the new string is:  wollo herld\n"
     ]
    }
   ],
   "source": [
    "#program to get string from 2 given strings seperated by a space and swap the first two characters of each string\n",
    "str1=input(\"enter a string: \")\n",
    "str2=input(\"enter a second string: \")\n",
    "l=len(str1)\n",
    "n=len(str2)\n",
    "m=str2[0:2]+str1[2:]+\" \"+str1[0:2]+str2[2:]\n",
    "print(\"the new string is: \",m)"
   ]
  },
  {
   "cell_type": "code",
   "execution_count": 7,
   "metadata": {},
   "outputs": [
    {
     "name": "stdout",
     "output_type": "stream",
     "text": [
      "enter a string: malayalam\n",
      "the new string is:  malayala$\n"
     ]
    }
   ],
   "source": [
    "#program to get a string from given string where all occurence of its first char has been changed to $ except first char itself\n",
    "string1=str(input(\"enter a string: \"))\n",
    "s1=string1[0]\n",
    "s2=string1.replace(s1,'$')\n",
    "s3=s1+s2[1:]\n",
    "print(\"the new string is: \",s3)"
   ]
  },
  {
   "cell_type": "code",
   "execution_count": null,
   "metadata": {
    "collapsed": true
   },
   "outputs": [],
   "source": []
  }
 ],
 "metadata": {
  "kernelspec": {
   "display_name": "Python 3",
   "language": "python",
   "name": "python3"
  },
  "language_info": {
   "codemirror_mode": {
    "name": "ipython",
    "version": 3
   },
   "file_extension": ".py",
   "mimetype": "text/x-python",
   "name": "python",
   "nbconvert_exporter": "python",
   "pygments_lexer": "ipython3",
   "version": "3.6.3"
  }
 },
 "nbformat": 4,
 "nbformat_minor": 2
}
