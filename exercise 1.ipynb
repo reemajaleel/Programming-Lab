{
 "cells": [
  {
   "cell_type": "code",
   "execution_count": 1,
   "metadata": {},
   "outputs": [
    {
     "name": "stdout",
     "output_type": "stream",
     "text": [
      "enter a number4\n",
      "3 4 5\n"
     ]
    }
   ],
   "source": [
    "#program to read an integer number and prints its previous and next numbers\n",
    "n=int(input(\"enter a number\"))\n",
    "print(n-1,n,n+1)"
   ]
  },
  {
   "cell_type": "code",
   "execution_count": 3,
   "metadata": {},
   "outputs": [
    {
     "name": "stdout",
     "output_type": "stream",
     "text": [
      "enter principle amount:20\n",
      "enter no. of years:3\n",
      "enter rate of interest:10\n",
      "6.0\n"
     ]
    }
   ],
   "source": [
    "#program for computing simple interest\n",
    "p=int(input(\"enter principle amount:\"))\n",
    "n=int(input(\"enter no. of years:\"))\n",
    "r=float(input(\"enter rate of interest:\"))\n",
    "si=(p*n*r)/100\n",
    "print(si)"
   ]
  },
  {
   "cell_type": "code",
   "execution_count": 6,
   "metadata": {},
   "outputs": [
    {
     "name": "stdout",
     "output_type": "stream",
     "text": [
      "enter the side 4\n",
      "area is= 16\n"
     ]
    }
   ],
   "source": [
    "#program to compute the area of a square\n",
    "n=int(input(\"enter the side \"))\n",
    "area=n*n\n",
    "print(\"area is=\",area)"
   ]
  },
  {
   "cell_type": "code",
   "execution_count": 7,
   "metadata": {},
   "outputs": [
    {
     "name": "stdout",
     "output_type": "stream",
     "text": [
      "enter base:2\n",
      "enter height:4\n",
      "4.0\n"
     ]
    }
   ],
   "source": [
    "#program to compute the area of a right angled triangle\n",
    "a=int(input(\"enter base:\"))\n",
    "b=int(input(\"enter height:\"))\n",
    "area=(a*b)/2\n",
    "print(area)"
   ]
  },
  {
   "cell_type": "code",
   "execution_count": 8,
   "metadata": {},
   "outputs": [
    {
     "name": "stdout",
     "output_type": "stream",
     "text": [
      "enter your name:reema\n",
      "hello,reema!\n"
     ]
    }
   ],
   "source": [
    "#program to greet a user by printing the word \"hello\", a comma, the name of the user and an exclamation mark after it\n",
    "name=input(\"enter your name:\")\n",
    "print('hello,'+name+'!')"
   ]
  },
  {
   "cell_type": "code",
   "execution_count": null,
   "metadata": {
    "collapsed": true
   },
   "outputs": [],
   "source": []
  }
 ],
 "metadata": {
  "kernelspec": {
   "display_name": "Python 3",
   "language": "python",
   "name": "python3"
  },
  "language_info": {
   "codemirror_mode": {
    "name": "ipython",
    "version": 3
   },
   "file_extension": ".py",
   "mimetype": "text/x-python",
   "name": "python",
   "nbconvert_exporter": "python",
   "pygments_lexer": "ipython3",
   "version": "3.6.3"
  }
 },
 "nbformat": 4,
 "nbformat_minor": 2
}
