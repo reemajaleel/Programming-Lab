{
 "cells": [
  {
   "cell_type": "code",
   "execution_count": 1,
   "metadata": {},
   "outputs": [
    {
     "name": "stdout",
     "output_type": "stream",
     "text": [
      "Enter comma seperated integers : -1,0,3,4,-4\n",
      "The positive list of numbers is :  [0, 3, 4]\n"
     ]
    }
   ],
   "source": [
    "#program for positive list of numbers from a given list of integers\n",
    "a=list(map(int,input(\"Enter comma seperated integers : \").split(\",\")))\n",
    "newlist=[x for x in a if x>=0 in a]\n",
    "print(\"The positive list of numbers is : \",newlist)"
   ]
  },
  {
   "cell_type": "code",
   "execution_count": 2,
   "metadata": {},
   "outputs": [
    {
     "name": "stdout",
     "output_type": "stream",
     "text": [
      "Enter the numbers : -1,1,2,3\n",
      "The square of the numbers is :  [1, 1, 4, 9]\n"
     ]
    }
   ],
   "source": [
    "#square of n numbers\n",
    "a=list(map(int,input(\"Enter the numbers : \").split(\",\")))\n",
    "newlist=[x*x for x in a]\n",
    "print(\"The square of the numbers is : \",newlist)"
   ]
  },
  {
   "cell_type": "code",
   "execution_count": 3,
   "metadata": {},
   "outputs": [
    {
     "name": "stdout",
     "output_type": "stream",
     "text": [
      "Enter a string : apple\n",
      "The list of vowels selected from a given word is :  ['a', 'e']\n"
     ]
    }
   ],
   "source": [
    "#program to find list of vowels selected from a given word\n",
    "a=input(\"Enter a string : \")\n",
    "b=[\"a\",\"e\",\"i\",\"o\",\"u\"]\n",
    "list1=[]\n",
    "for x in a:\n",
    "    if(x in b and x not in list1):\n",
    "        list1.append(x)\n",
    "print(\"The list of vowels selected from a given word is : \",list1)"
   ]
  },
  {
   "cell_type": "code",
   "execution_count": 4,
   "metadata": {},
   "outputs": [
    {
     "name": "stdout",
     "output_type": "stream",
     "text": [
      "Enter a word : python\n",
      "['p', 'y', 't', 'h', 'o', 'n']\n",
      "The required list of ordinal values of characters of entered word is :  [112, 121, 116, 104, 111, 110]\n"
     ]
    }
   ],
   "source": [
    "#ordinal values of each element\n",
    "a=input(\"Enter a word : \")\n",
    "l=list(a)\n",
    "print(l)\n",
    "o=[ord(x) for x in l]\n",
    "print(\"The required list of ordinal values of characters of entered word is : \",o)"
   ]
  },
  {
   "cell_type": "code",
   "execution_count": 5,
   "metadata": {},
   "outputs": [
    {
     "name": "stdout",
     "output_type": "stream",
     "text": [
      "Enter comma seperated numbers : 1,345,45,455\n",
      "The list is :  [1, 'over', 45, 'over']\n"
     ]
    }
   ],
   "source": [
    "#100 is over\n",
    "l=list(map(int,input(\"Enter comma seperated numbers : \").split(\",\")))\n",
    "for i in range(len(l)):\n",
    "    if l[i]>100:\n",
    "        l[i]=\"over\"\n",
    "print(\"The list is : \",l)"
   ]
  },
  {
   "cell_type": "code",
   "execution_count": 6,
   "metadata": {},
   "outputs": [
    {
     "name": "stdout",
     "output_type": "stream",
     "text": [
      "Enter the names : reema,aparna,dilshana,anjana\n",
      "No. of occurrences of a in reema is :  1\n",
      "No. of occurrences of a in aparna is :  3\n",
      "No. of occurrences of a in dilshana is :  2\n",
      "No. of occurrences of a in anjana is :  3\n",
      "Total no. of occurrence of a in list is :  9\n"
     ]
    }
   ],
   "source": [
    "#count the occurrences of 'a' within the list\n",
    "a=input(\"Enter the names : \")\n",
    "l=a.split(\",\")\n",
    "t=0\n",
    "for i in l:\n",
    "    print(\"No. of occurrences of a in\",i,\"is : \",i.count(\"a\"))\n",
    "    t=t+i.count(\"a\")\n",
    "print(\"Total no. of occurrence of a in list is : \",t)"
   ]
  },
  {
   "cell_type": "code",
   "execution_count": 7,
   "metadata": {},
   "outputs": [
    {
     "name": "stdout",
     "output_type": "stream",
     "text": [
      "Enter some commma seperated integers for list1 : 1,2,3\n",
      "Enter somme comma seperated integers for list2 : 1,2,3\n",
      "Both the list have same lenght and the lenght is :  3\n",
      "Both the list have same sum and the sum is :  6\n",
      "Same members are  :  [1, 2, 3]\n"
     ]
    }
   ],
   "source": [
    "#some list operations\n",
    "l1=list(map(int,input(\"Enter some commma seperated integers for list1 : \").split(\",\")))\n",
    "l2=list(map(int,input(\"Enter somme comma seperated integers for list2 : \").split(\",\")))\n",
    "if len(l1)!=len(l2):\n",
    "    print(\"The entered list are different size\")\n",
    "else:\n",
    "    print(\"Both the list have same lenght and the lenght is : \",len(l1))\n",
    "if sum(l1)==sum(l2):\n",
    "    print(\"Both the list have same sum and the sum is : \",sum(l1))\n",
    "else:\n",
    "    print(\"Both the list have different sum of elements...\")\n",
    "k=[i for i in l1 if i in l2]\n",
    "if len(k)!=0:\n",
    "    print(\"Same members are  : \",k)\n",
    "else:\n",
    "    print(\"Nothing common in both lists...\")"
   ]
  },
  {
   "cell_type": "code",
   "execution_count": 8,
   "metadata": {},
   "outputs": [
    {
     "name": "stdout",
     "output_type": "stream",
     "text": [
      "Enter the color in list1 : red,blue,pink,purple,yellow\n",
      "Enter the color in list2 : red,pink,blue\n",
      "The colors in list1 which are not present in list2 is :  {'yellow', 'purple'}\n"
     ]
    }
   ],
   "source": [
    "#color list1 not contained in color list2\n",
    "c1=list(map(str,input(\"Enter the color in list1 : \").split(\",\")))\n",
    "c2=list(map(str,input(\"Enter the color in list2 : \").split(\",\")))\n",
    "a=set(c1+c2)\n",
    "[x for x in a if x in c1]\n",
    "c=set(a-set(c2))\n",
    "print(\"The colors in list1 which are not present in list2 is : \",c)"
   ]
  },
  {
   "cell_type": "code",
   "execution_count": 9,
   "metadata": {},
   "outputs": [
    {
     "name": "stdout",
     "output_type": "stream",
     "text": [
      "Enter the numbers : 1,2,3,4,5,6,7,8,9\n",
      "The list after removing the even numbers are :  [1, 3, 5, 7, 9]\n"
     ]
    }
   ],
   "source": [
    "#list removing even numbers\n",
    "n=list(map(int,input(\"Enter the numbers : \").split(\",\")))\n",
    "l=[i for i in n if(i%2!=0)]\n",
    "print(\"The list after removing the even numbers are : \",l)"
   ]
  },
  {
   "cell_type": "code",
   "execution_count": 3,
   "metadata": {},
   "outputs": [
    {
     "name": "stdout",
     "output_type": "stream",
     "text": [
      "Enter the number : 3\n",
      "Enter key : a\n",
      "Enter value : 1\n",
      "Enter key : c\n",
      "Enter value : 3\n",
      "Enter key : b\n",
      "Enter value : 2\n",
      "The dictionary is :  {'a': '1', 'c': '3', 'b': '2'}\n",
      "Ascending order :  [('a', '1'), ('b', '2'), ('c', '3')]\n",
      "Descending order :  [('c', '3'), ('b', '2'), ('a', '1')]\n"
     ]
    }
   ],
   "source": [
    "#sort dictionary in ascending and descending order\n",
    "d={}\n",
    "n=int(input(\"Enter the number : \"))\n",
    "for i in range (n):\n",
    "    d1=input(\"Enter key : \")\n",
    "    d2=input(\"Enter value : \")\n",
    "    d[d1]=d2\n",
    "    i=i+1\n",
    "print(\"The dictionary is : \",d)\n",
    "dict1=sorted(d.items())\n",
    "print(\"Ascending order : \",dict1)\n",
    "dict2=sorted(d.items(),reverse=True)\n",
    "print(\"Descending order : \",dict2)"
   ]
  },
  {
   "cell_type": "raw",
   "metadata": {
    "collapsed": true
   },
   "source": []
  },
  {
   "cell_type": "code",
   "execution_count": 13,
   "metadata": {},
   "outputs": [
    {
     "name": "stdout",
     "output_type": "stream",
     "text": [
      "Enter the number : 2\n",
      "Enter key : a\n",
      "Enter value : 1\n",
      "Enter key : b\n",
      "Enter value : 2\n",
      "Dictionary 1 :  {'a': '1', 'b': '2'}\n",
      "Enter the number : 3\n",
      "Enter key : c\n",
      "Enter value : 3\n",
      "Enter key : d\n",
      "Enter value : 4\n",
      "Enter key : e\n",
      "Enter value : 5\n",
      "Dictionary 2 :  {'c': '3', 'd': '4', 'e': '5'}\n",
      "The merged dictionary is :  {'a': '1', 'b': '2', 'c': '3', 'd': '4', 'e': '5'}\n"
     ]
    }
   ],
   "source": [
    "#merge two dictionaries\n",
    "d1={}\n",
    "d2={}\n",
    "d3={}\n",
    "n1=int(input(\"Enter the number : \"))\n",
    "for i in range (n1):\n",
    "    key=input(\"Enter key : \")\n",
    "    value=input(\"Enter value : \")\n",
    "    d1.update({key:value})\n",
    "print(\"Dictionary 1 : \",d1)\n",
    "n2=int(input(\"Enter the number : \"))\n",
    "for i in range (n2):\n",
    "    key=input(\"Enter key : \")\n",
    "    value=input(\"Enter value : \")\n",
    "    d2.update({key:value})\n",
    "print(\"Dictionary 2 : \",d2)\n",
    "d3.update(d1)\n",
    "d3.update(d2)\n",
    "print(\"The merged dictionary is : \",d3)"
   ]
  },
  {
   "cell_type": "code",
   "execution_count": null,
   "metadata": {
    "collapsed": true
   },
   "outputs": [],
   "source": []
  }
 ],
 "metadata": {
  "kernelspec": {
   "display_name": "Python 3",
   "language": "python",
   "name": "python3"
  },
  "language_info": {
   "codemirror_mode": {
    "name": "ipython",
    "version": 3
   },
   "file_extension": ".py",
   "mimetype": "text/x-python",
   "name": "python",
   "nbconvert_exporter": "python",
   "pygments_lexer": "ipython3",
   "version": "3.6.3"
  }
 },
 "nbformat": 4,
 "nbformat_minor": 2
}
