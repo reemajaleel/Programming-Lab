{
 "cells": [
  {
   "cell_type": "code",
   "execution_count": 1,
   "metadata": {},
   "outputs": [
    {
     "name": "stdout",
     "output_type": "stream",
     "text": [
      "Enter comma-seperated numbers : 1,4,3,6,8,9\n",
      "List is :  ['1', '4', '3', '6', '8', '9']\n"
     ]
    }
   ],
   "source": [
    "#program which accepts a comma-seperated numbers from user and generate a list with those numbers\n",
    "n=input(\"Enter comma-seperated numbers : \")\n",
    "l=n.split(\",\")\n",
    "print(\"List is : \",l)"
   ]
  },
  {
   "cell_type": "code",
   "execution_count": 5,
   "metadata": {},
   "outputs": [
    {
     "name": "stdout",
     "output_type": "stream",
     "text": [
      "Enter colours : red,green,yellow\n",
      "First colour =  red\n",
      "Last colour =  yellow\n"
     ]
    }
   ],
   "source": [
    "#program to create a list of colours from comma-seperated colour names entered by user and display first and last colou\n",
    "a=input(\"Enter colours : \")\n",
    "l=a.split(\",\")\n",
    "print(\"First colour = \",l[0])\n",
    "print(\"Last colour = \",l[-1])"
   ]
  },
  {
   "cell_type": "code",
   "execution_count": 4,
   "metadata": {},
   "outputs": [
    {
     "name": "stdout",
     "output_type": "stream",
     "text": [
      "Enter filename : abc.c\n",
      "Extension is : c\n"
     ]
    }
   ],
   "source": [
    "#program to accept a filename from the user, print exension of that\n",
    "filename=input(\"Enter filename : \")\n",
    "ext=filename.split(\".\")\n",
    "print(\"Extension is :\",ext[-1])"
   ]
  },
  {
   "cell_type": "code",
   "execution_count": null,
   "metadata": {
    "collapsed": true
   },
   "outputs": [],
   "source": []
  }
 ],
 "metadata": {
  "kernelspec": {
   "display_name": "Python 3",
   "language": "python",
   "name": "python3"
  },
  "language_info": {
   "codemirror_mode": {
    "name": "ipython",
    "version": 3
   },
   "file_extension": ".py",
   "mimetype": "text/x-python",
   "name": "python",
   "nbconvert_exporter": "python",
   "pygments_lexer": "ipython3",
   "version": "3.6.3"
  }
 },
 "nbformat": 4,
 "nbformat_minor": 2
}
