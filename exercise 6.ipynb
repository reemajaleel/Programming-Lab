{
 "cells": [
  {
   "cell_type": "code",
   "execution_count": 1,
   "metadata": {},
   "outputs": [
    {
     "name": "stdout",
     "output_type": "stream",
     "text": [
      "Enter any number : 4\n",
      "Factorial of  4 = 24\n"
     ]
    }
   ],
   "source": [
    "#program to find factorial of any number\n",
    "num=int(input(\"Enter any number : \"))\n",
    "if num==0:\n",
    "    print(\"You entered zero & factorial of zero is one\")\n",
    "else:\n",
    "    temp=num\n",
    "    f=1\n",
    "while temp>0:\n",
    "    f=f*temp\n",
    "    temp=temp-1\n",
    "print(\"Factorial of \",num,\"=\",f)"
   ]
  },
  {
   "cell_type": "code",
   "execution_count": 2,
   "metadata": {},
   "outputs": [
    {
     "name": "stdout",
     "output_type": "stream",
     "text": [
      "Enter the limit : 5\n",
      "Fabanocci series : \n",
      "0\n",
      "1\n",
      "1\n",
      "2\n",
      "3\n"
     ]
    }
   ],
   "source": [
    "#program febanocci series of n terms\n",
    "n=int(input(\"Enter the limit : \"))\n",
    "a=c=d=0\n",
    "b=1\n",
    "print(\"Fabanocci series : \")\n",
    "while(d<n):\n",
    "    print(c)\n",
    "    a=b\n",
    "    b=c\n",
    "    c=a+b\n",
    "    d=d+1"
   ]
  },
  {
   "cell_type": "code",
   "execution_count": 3,
   "metadata": {},
   "outputs": [
    {
     "name": "stdout",
     "output_type": "stream",
     "text": [
      "Enter first number : 2\n",
      "Enter second number : 4\n",
      "The greatest common divisor of 2 and 4 is :  2\n"
     ]
    }
   ],
   "source": [
    "#program to find the greatest common devisor\n",
    "num1=int(input(\"Enter first number : \"))\n",
    "num2=int(input(\"Enter second number : \"))\n",
    "if num1<num2:\n",
    "    m=num1\n",
    "else:\n",
    "    m=num2\n",
    "while m>0:\n",
    "    if(num1%m==0)and(num2%m==0):\n",
    "        print(\"The greatest common divisor of\",num1,\"and\",num2,\"is : \",m)\n",
    "        break\n",
    "    m=m-1"
   ]
  },
  {
   "cell_type": "code",
   "execution_count": 3,
   "metadata": {},
   "outputs": [
    {
     "name": "stdout",
     "output_type": "stream",
     "text": [
      "Enter a number : 4\n",
      "The pyramid is : \n",
      "1 \n",
      "\n",
      "2 4 \n",
      "\n",
      "3 6 9 \n",
      "\n",
      "4 8 12 16 \n",
      "\n"
     ]
    }
   ],
   "source": [
    "#pyramid of multiples\n",
    "n=int(input(\"Enter a number : \"))\n",
    "print(\"The pyramid is : \")\n",
    "for i in range(1,n+1):\n",
    "    for j in range(1,i+1):\n",
    "        print(i*j,end =\" \")\n",
    "    print(\"\\n\")"
   ]
  },
  {
   "cell_type": "code",
   "execution_count": 6,
   "metadata": {},
   "outputs": [
    {
     "name": "stdout",
     "output_type": "stream",
     "text": [
      "Enter some comma seperated numbers : 1,2,3,4,5\n",
      "Sum of the elements of the list ['1', '2', '3', '4', '5'] is :  15\n"
     ]
    }
   ],
   "source": [
    "#sum of elements of a list\n",
    "str1=input(\"Enter some comma seperated numbers : \")\n",
    "l=str1.split(\",\")\n",
    "s=i=0\n",
    "for i in l:\n",
    "    s=s+int(i)\n",
    "print(\"Sum of the elements of the list\",l,\"is : \",s)"
   ]
  },
  {
   "cell_type": "code",
   "execution_count": 9,
   "metadata": {},
   "outputs": [
    {
     "name": "stdout",
     "output_type": "stream",
     "text": [
      "Enter a number : 4\n",
      "The factors of the given number 4 are : \n",
      "4   2   1   "
     ]
    }
   ],
   "source": [
    "#factors of a given number\n",
    "num=int(input(\"Enter a number : \"))\n",
    "i=num\n",
    "print(\"The factors of the given number\",num,\"are : \")\n",
    "while i>0:\n",
    "    if(num%i==0):\n",
    "        print(i,\" \",end=\" \")\n",
    "    i=i-1"
   ]
  },
  {
   "cell_type": "code",
   "execution_count": 13,
   "metadata": {},
   "outputs": [
    {
     "name": "stdout",
     "output_type": "stream",
     "text": [
      "* \n",
      "\n",
      "* * \n",
      "\n",
      "* * * \n",
      "\n",
      "* * * * \n",
      "\n",
      "* * * * * \n",
      "\n",
      "* * * * \n",
      "\n",
      "* * * \n",
      "\n",
      "* * \n",
      "\n",
      "* \n",
      "\n"
     ]
    }
   ],
   "source": [
    "#star pattern\n",
    "for i in range(0,4):\n",
    "    for j in range(0,i+1):\n",
    "        print(\"*\",end =\" \")\n",
    "    print(\"\\n\")\n",
    "for i in range(4,-1,-1):\n",
    "    for j in range(0,i+1):\n",
    "        print(\"*\",end =\" \")\n",
    "    print(\"\\n\")"
   ]
  },
  {
   "cell_type": "code",
   "execution_count": 24,
   "metadata": {},
   "outputs": [
    {
     "name": "stdout",
     "output_type": "stream",
     "text": [
      "Enter a string : malayalam\n",
      "The frequency of characters of entire string is : \n",
      "m- 2\n",
      "a- 4\n",
      "l- 2\n",
      "y- 1\n"
     ]
    }
   ],
   "source": [
    "#frequency of characters of a string\n",
    "str1=input(\"Enter a string : \")\n",
    "l=len(str1)\n",
    "temp=str1\n",
    "f=[None]*l\n",
    "for i in range(l):\n",
    "    f[i]=1\n",
    "    for j in range(i+1,l):\n",
    "        if(temp[i]==temp[j]):\n",
    "            f[i]=f[i]+1\n",
    "            temp=temp[:j]+'0'+temp[j+1:]\n",
    "print(\"The frequency of characters of entire string is : \")\n",
    "for i in range(0,len(f)):\n",
    "    if(temp[i]!=' 'and temp[i]!='0'):\n",
    "        print(temp[i]+\"-\",f[i])"
   ]
  },
  {
   "cell_type": "code",
   "execution_count": null,
   "metadata": {
    "collapsed": true
   },
   "outputs": [],
   "source": []
  }
 ],
 "metadata": {
  "kernelspec": {
   "display_name": "Python 3",
   "language": "python",
   "name": "python3"
  },
  "language_info": {
   "codemirror_mode": {
    "name": "ipython",
    "version": 3
   },
   "file_extension": ".py",
   "mimetype": "text/x-python",
   "name": "python",
   "nbconvert_exporter": "python",
   "pygments_lexer": "ipython3",
   "version": "3.6.3"
  }
 },
 "nbformat": 4,
 "nbformat_minor": 2
}
