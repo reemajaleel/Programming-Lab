{
 "cells": [
  {
   "cell_type": "code",
   "execution_count": 2,
   "metadata": {},
   "outputs": [
    {
     "name": "stdout",
     "output_type": "stream",
     "text": [
      "\n",
      "1.Circle\n",
      "2.Rectangle\n",
      "3.Exit\n",
      "Enter any option : 1\n",
      "Enter radius : 2\n",
      "Area of circle :  12.566370614359172 \n",
      "Perimeter of circle :  12.566370614359172\n",
      "\n",
      "1.Circle\n",
      "2.Rectangle\n",
      "3.Exit\n",
      "Enter any option : 2\n",
      "Enter length : 2\n",
      "Enter breadth : 3\n",
      "Area of rectangle :  6 \n",
      "Perimeter of rectangle :  10\n",
      "\n",
      "1.Circle\n",
      "2.Rectangle\n",
      "3.Exit\n",
      "Enter any option : 3\n",
      "Exiting...\n"
     ]
    }
   ],
   "source": [
    "#area and perimeter of circle and rectangle using module\n",
    "import circle\n",
    "from rectangle import *\n",
    "while(1):\n",
    "    print(\"\\n1.Circle\\n2.Rectangle\\n3.Exit\")\n",
    "    ch=int(input(\"Enter any option : \"))\n",
    "    if ch==1:\n",
    "        r=int(input(\"Enter radius : \"))\n",
    "        carea=circle.cirarea(r)\n",
    "        cperi=circle.cirperi(r)\n",
    "        print(\"Area of circle : \",carea,\"\\nPerimeter of circle : \",cperi)\n",
    "    elif ch==2:\n",
    "        l=int(input(\"Enter length : \"))\n",
    "        b=int(input(\"Enter breadth : \"))\n",
    "        rarea=rectarea(l,b)\n",
    "        rperi=rectperi(l,b)\n",
    "        print(\"Area of rectangle : \",rarea,\"\\nPerimeter of rectangle : \",rperi)\n",
    "    else:\n",
    "        print(\"Exiting...\")\n",
    "        break"
   ]
  },
  {
   "cell_type": "code",
   "execution_count": 3,
   "metadata": {},
   "outputs": [
    {
     "name": "stdout",
     "output_type": "stream",
     "text": [
      "\n",
      "1.Circle\n",
      "2.Rectangle\n",
      "3.Sphere\n",
      "4.Cuboid\n",
      "5.Exit\n",
      "Enter any option : 1\n",
      "Enter radius : 2\n",
      "Area of circle :  12.566370614359172 \n",
      "Perimeter of circle :  12.566370614359172\n",
      "\n",
      "1.Circle\n",
      "2.Rectangle\n",
      "3.Sphere\n",
      "4.Cuboid\n",
      "5.Exit\n",
      "Enter any option : 2\n",
      "Enter length : 2\n",
      "Enter breadth : 3\n",
      "Area of rectangle :  6 \n",
      "Perimeter of rectangle :  10\n",
      "\n",
      "1.Circle\n",
      "2.Rectangle\n",
      "3.Sphere\n",
      "4.Cuboid\n",
      "5.Exit\n",
      "Enter any option : 3\n",
      "Enter radius : 2\n",
      "Area of sphere :  50.26548245743669 \n",
      "Circumference of sphere :  12.566370614359172\n",
      "\n",
      "1.Circle\n",
      "2.Rectangle\n",
      "3.Sphere\n",
      "4.Cuboid\n",
      "5.Exit\n",
      "Enter any option : 4\n",
      "Enter length : 2\n",
      "Enter breadth : 3\n",
      "Enter height : 4\n",
      "Area of cuboid :  52 \n",
      "Perimeter of cuboid :  36\n",
      "\n",
      "1.Circle\n",
      "2.Rectangle\n",
      "3.Sphere\n",
      "4.Cuboid\n",
      "5.Exit\n",
      "Enter any option : 5\n",
      "Exiting...\n"
     ]
    }
   ],
   "source": [
    "#area and perimeter of circle, rectangle, sphere and cuboid using module\n",
    "import Graphics.circle\n",
    "import Graphics.rectangle\n",
    "from Graphics.Graphics3D.sphere import *\n",
    "from Graphics.Graphics3D.cuboid import *\n",
    "while(1):\n",
    "    print(\"\\n1.Circle\\n2.Rectangle\\n3.Sphere\\n4.Cuboid\\n5.Exit\")\n",
    "    ch=int(input(\"Enter any option : \"))\n",
    "    if ch==1:\n",
    "        r=int(input(\"Enter radius : \"))\n",
    "        carea=Graphics.circle.cirarea(r)\n",
    "        cperi=Graphics.circle.cirperi(r)\n",
    "        print(\"Area of circle : \",carea,\"\\nPerimeter of circle : \",cperi)\n",
    "    elif ch==2:\n",
    "        l=int(input(\"Enter length : \"))\n",
    "        b=int(input(\"Enter breadth : \"))\n",
    "        rarea=Graphics.rectangle.rectarea(l,b)\n",
    "        rperi=Graphics.rectangle.rectperi(l,b)\n",
    "        print(\"Area of rectangle : \",rarea,\"\\nPerimeter of rectangle : \",rperi)\n",
    "    elif ch==3:\n",
    "        r=int(input(\"Enter radius : \"))\n",
    "        sarea=spherearea(r)\n",
    "        scircum=spherecircumference(r)\n",
    "        print(\"Area of sphere : \",sarea,\"\\nCircumference of sphere : \",scircum)\n",
    "    elif ch==4:\n",
    "        l=int(input(\"Enter length : \"))\n",
    "        b=int(input(\"Enter breadth : \"))\n",
    "        h=int(input(\"Enter height : \"))\n",
    "        carea=cuboidarea(l,b,h)\n",
    "        cperi=cuboidperi(l,b,h)\n",
    "        print(\"Area of cuboid : \",carea,\"\\nPerimeter of cuboid : \",cperi)\n",
    "    else:\n",
    "        print(\"Exiting...\")\n",
    "        break"
   ]
  },
  {
   "cell_type": "code",
   "execution_count": 12,
   "metadata": {},
   "outputs": [
    {
     "name": "stdout",
     "output_type": "stream",
     "text": [
      "Date before five days:  2022-01-14\n",
      "Yesterday:  2022-01-18 ,Today:  2022-01-19 ,Tomorrow:  2022-01-20\n",
      "Next five days starting from today: \n",
      "2022-01-19\n",
      "2022-01-20\n",
      "2022-01-21\n",
      "2022-01-22\n",
      "2022-01-23\n",
      "Enter the first date(yyyy-mm-dd): 2022-01-10\n",
      "Enter the second date(yyyy-mm-dd): 2022-01-14\n",
      "Number of days between 2022-01-10 and 2022-01-14 are: 4 days, 0:00:00\n"
     ]
    }
   ],
   "source": [
    "#subtract five days from current date\n",
    "from datetime import date,timedelta,datetime\n",
    "a=date.today()-timedelta(5) \n",
    "print(\"Date before five days: \",a)\n",
    "#print yesterday, today and tomorrow\n",
    "b=date.today()-timedelta(1) \n",
    "c=date.today()+timedelta(1) \n",
    "print(\"Yesterday: \",b,\",Today: \",date.today(),\",Tomorrow: \",c) \n",
    "#print next five days starting from today\n",
    "print(\"Next five days starting from today: \") \n",
    "for x in range(0,5): \n",
    "    print(date.today()+timedelta(days=x)) \n",
    "#days between two given dates\n",
    "date1=str(input(\"Enter the first date(yyyy-mm-dd): \"))\n",
    "d1=datetime.strptime(date1,\"%Y-%m-%d\")\n",
    "date2=str(input(\"Enter the second date(yyyy-mm-dd): \"))\n",
    "d2=datetime.strptime(date2,\"%Y-%m-%d\")\n",
    "days=d2-d1\n",
    "print(\"Number of days between\", date1,\"and\", date2,\"are:\",days)"
   ]
  },
  {
   "cell_type": "code",
   "execution_count": null,
   "metadata": {
    "collapsed": true
   },
   "outputs": [],
   "source": []
  }
 ],
 "metadata": {
  "kernelspec": {
   "display_name": "Python 3",
   "language": "python",
   "name": "python3"
  },
  "language_info": {
   "codemirror_mode": {
    "name": "ipython",
    "version": 3
   },
   "file_extension": ".py",
   "mimetype": "text/x-python",
   "name": "python",
   "nbconvert_exporter": "python",
   "pygments_lexer": "ipython3",
   "version": "3.6.3"
  }
 },
 "nbformat": 4,
 "nbformat_minor": 2
}
