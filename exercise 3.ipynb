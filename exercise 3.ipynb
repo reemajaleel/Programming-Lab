{
 "cells": [
  {
   "cell_type": "code",
   "execution_count": 1,
   "metadata": {},
   "outputs": [
    {
     "name": "stdout",
     "output_type": "stream",
     "text": [
      "enter the temperature in celsius:30.5\n",
      "the temperature in fahrenheit= 86.9\n"
     ]
    }
   ],
   "source": [
    "#program to convert celsius to fahrenheit\n",
    "c=float(input(\"enter the temperature in celsius:\"))\n",
    "f=(c*9/5+32)\n",
    "print(\"the temperature in fahrenheit=\",f)"
   ]
  },
  {
   "cell_type": "code",
   "execution_count": 2,
   "metadata": {},
   "outputs": [
    {
     "name": "stdout",
     "output_type": "stream",
     "text": [
      "enter the kilometers:2\n",
      "the kilometers in miles= 1.24274\n"
     ]
    }
   ],
   "source": [
    "#program to convert kilometers into miles\n",
    "km=float(input(\"enter the kilometers:\"))\n",
    "x=km*0.62137\n",
    "print(\"the kilometers in miles=\",x)"
   ]
  },
  {
   "cell_type": "code",
   "execution_count": 4,
   "metadata": {},
   "outputs": [
    {
     "name": "stdout",
     "output_type": "stream",
     "text": [
      "enter first number:2\n",
      "enter second number:5\n",
      "enter third number:1\n",
      "the biggest number is= 5\n"
     ]
    }
   ],
   "source": [
    "#program to find the biggest of three numbers\n",
    "num1=int(input(\"enter first number:\"))\n",
    "num2=int(input(\"enter second number:\"))\n",
    "num3=int(input(\"enter third number:\"))\n",
    "print(\"the biggest number is=\",max(num1,num2,num3))"
   ]
  },
  {
   "cell_type": "code",
   "execution_count": null,
   "metadata": {
    "collapsed": true
   },
   "outputs": [],
   "source": []
  }
 ],
 "metadata": {
  "kernelspec": {
   "display_name": "Python 3",
   "language": "python",
   "name": "python3"
  },
  "language_info": {
   "codemirror_mode": {
    "name": "ipython",
    "version": 3
   },
   "file_extension": ".py",
   "mimetype": "text/x-python",
   "name": "python",
   "nbconvert_exporter": "python",
   "pygments_lexer": "ipython3",
   "version": "3.6.3"
  }
 },
 "nbformat": 4,
 "nbformat_minor": 2
}
