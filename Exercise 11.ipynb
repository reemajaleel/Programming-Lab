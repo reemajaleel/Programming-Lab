{
 "cells": [
  {
   "cell_type": "code",
   "execution_count": 2,
   "metadata": {},
   "outputs": [
    {
     "name": "stdout",
     "output_type": "stream",
     "text": [
      "Enter the source file name: myfile.txt\n",
      "Enter the desination file name: exfile.txt\n",
      "File copied\n"
     ]
    }
   ],
   "source": [
    "#copy a text file to another file\n",
    "file1=input(\"Enter the source file name: \")\n",
    "file2=input(\"Enter the desination file name: \")\n",
    "f1=open(file1,\"r\")\n",
    "f2=open(file2,\"w\")\n",
    "for line in f1.readlines():\n",
    "    f2.write(line)\n",
    "f1.close()\n",
    "f2.close()\n",
    "print(\"File copied\")"
   ]
  },
  {
   "cell_type": "code",
   "execution_count": 6,
   "metadata": {},
   "outputs": [
    {
     "name": "stdout",
     "output_type": "stream",
     "text": [
      "Enter the source file name: exfile.txt\n",
      "Enter the desination file name: myfile.txt\n",
      "File appended\n"
     ]
    }
   ],
   "source": [
    "#append a file with another file\n",
    "file1=input(\"Enter the source file name: \")\n",
    "file2=input(\"Enter the desination file name: \")\n",
    "f1=open(file1,\"r\")\n",
    "f2=open(file2,\"a+\")\n",
    "for line in f1.readlines():\n",
    "    f2.write(line)\n",
    "f1.close()\n",
    "f2.close()\n",
    "print(\"File appended\")"
   ]
  },
  {
   "cell_type": "code",
   "execution_count": 8,
   "metadata": {},
   "outputs": [
    {
     "name": "stdout",
     "output_type": "stream",
     "text": [
      "Enter the source file name: myfile.txt\n",
      "4\n"
     ]
    }
   ],
   "source": [
    "#number of lines in a file\n",
    "l=[]\n",
    "file1=input(\"Enter the source file name: \")\n",
    "f1=open(file1,\"r\")\n",
    "for line in f1.readlines():\n",
    "    l.append(line)\n",
    "print(len(l))"
   ]
  },
  {
   "cell_type": "code",
   "execution_count": 9,
   "metadata": {},
   "outputs": [
    {
     "name": "stdout",
     "output_type": "stream",
     "text": [
      "Enter the source file name: myfile.txt\n",
      "Enter the desination file name: file.txt\n",
      "File copied\n"
     ]
    }
   ],
   "source": [
    "#program to copy only add files\n",
    "file1=input(\"Enter the source file name: \")\n",
    "file2=input(\"Enter the desination file name: \")\n",
    "f1=open(file1,\"r\")\n",
    "f2=open(file2,\"w\")\n",
    "i=0\n",
    "for line in f1.readlines():\n",
    "    i=i+1\n",
    "    if i%2 == 0:\n",
    "        continue\n",
    "    f2.write(line)\n",
    "f1.close()\n",
    "f2.close()\n",
    "print(\"File copied\")"
   ]
  },
  {
   "cell_type": "code",
   "execution_count": 1,
   "metadata": {},
   "outputs": [
    {
     "name": "stdout",
     "output_type": "stream",
     "text": [
      "Enter new source csv file name : csv1.csv\n",
      "Enter comma seperated empid,empname,dptmnt,dob,salary : 1,Parvathi,Sales,6 Nov 2000,1000\n",
      "Enter comma seperated empid,empname,dptmnt,dob,salary : 2,Anu,Production,22 Dec 2000,2000\n",
      "{'empid': '1', 'empname': 'Parvathi', 'dptmnt': 'Sales', 'dob': '6 Nov 2000', 'salary': '1000'}\n",
      "{'empid': '2', 'empname': 'Anu', 'dptmnt': 'Production', 'dob': '22 Dec 2000', 'salary': '2000'}\n"
     ]
    }
   ],
   "source": [
    "#Write a python dictionary to a csv file. After writing the csv file read the csv file and display the content.\n",
    "import csv\n",
    "file1=input(\"Enter new source csv file name : \")\n",
    "with open(file1,\"a+\",newline=\"\")as f1:\n",
    "    empdata=[\"empid\",\"empname\",\"dptmnt\",\"dob\",\"salary\"]\n",
    "    l=[]\n",
    "    writer=csv.DictWriter(f1,fieldnames=empdata)\n",
    "    writer.writeheader()\n",
    "    for i in range(2):\n",
    "        l=list(input(\"Enter comma seperated empid,empname,dptmnt,dob,salary : \").split(\",\"))\n",
    "        writer.writerow({'empid':l[0],'empname':l[1],'dptmnt':l[2],'dob':l[3],'salary':l[4]})\n",
    "        l.clear()\n",
    "with open(file1,'r') as f2:\n",
    "    rdr=csv.DictReader(f2)\n",
    "    for item in rdr:\n",
    "        print(dict(item))"
   ]
  },
  {
   "cell_type": "code",
   "execution_count": 3,
   "metadata": {},
   "outputs": [
    {
     "name": "stdout",
     "output_type": "stream",
     "text": [
      "Enter csv file name with extension csv : csv1.csv\n",
      "['empid', 'empname', 'dptmnt', 'dob', 'salary']\n",
      "['1', 'Parvathi', 'Sales', '6 Nov 2000', '1000']\n",
      "['2', 'Anu', 'Production', '22 Dec 2000', '2000']\n"
     ]
    }
   ],
   "source": [
    "#python program to read each row from a given csv file and print a list of strings\n",
    "import csv\n",
    "fname=input(\"Enter csv file name with extension csv : \")\n",
    "f1=open(fname,\"r\")\n",
    "reader=csv.reader(f1)\n",
    "for row in reader:\n",
    "    print(row)\n",
    "f1.close()"
   ]
  },
  {
   "cell_type": "code",
   "execution_count": 5,
   "metadata": {},
   "outputs": [
    {
     "name": "stdout",
     "output_type": "stream",
     "text": [
      "Enter new source csv file name(extension csv) : csv2.csv\n",
      "Enter number of dept : 2\n",
      "Enter comma seperated DeptId,Deptname,TE,Location : 1,Sales,10,Calicut\n",
      "Enter comma seperated DeptId,Deptname,TE,Location : 2,Production,20,Alappuzha\n",
      "DepartmentId Department\n",
      "1   Sales\n",
      "2   Production\n"
     ]
    }
   ],
   "source": [
    "#Create a dept csv file-Deptid,Deptname,Totalemployees,location.\n",
    "#Read specific columns-Deptid,Deptname of csv file and print content of coloumns\n",
    "import csv\n",
    "file1=input(\"Enter new source csv file name(extension csv) : \")\n",
    "with open(file1,\"a+\",newline=\"\")as f1:\n",
    "    empdata=[\"DeptId\",\"DeptName\",\"TE\",\"Location\"]\n",
    "    l=[]\n",
    "    writer=csv.DictWriter(f1,fieldnames=empdata)\n",
    "    writer.writeheader()\n",
    "    n=int(input(\"Enter number of dept : \"))\n",
    "    for i in range(n):\n",
    "        l=list(input(\"Enter comma seperated DeptId,Deptname,TE,Location : \").split(\",\"))\n",
    "        writer.writerow({'DeptId':l[0],'DeptName':l[1],'TE':l[2],'Location':l[3]})\n",
    "        l.clear()\n",
    "print(\"DepartmentId Department\")\n",
    "with open(file1,'r') as f2:\n",
    "    rdr=csv.DictReader(f2)\n",
    "    for item in rdr:\n",
    "        print(item[\"DeptId\"],\" \",item[\"DeptName\"])"
   ]
  },
  {
   "cell_type": "code",
   "execution_count": null,
   "metadata": {
    "collapsed": true
   },
   "outputs": [],
   "source": []
  }
 ],
 "metadata": {
  "kernelspec": {
   "display_name": "Python 3",
   "language": "python",
   "name": "python3"
  },
  "language_info": {
   "codemirror_mode": {
    "name": "ipython",
    "version": 3
   },
   "file_extension": ".py",
   "mimetype": "text/x-python",
   "name": "python",
   "nbconvert_exporter": "python",
   "pygments_lexer": "ipython3",
   "version": "3.6.3"
  }
 },
 "nbformat": 4,
 "nbformat_minor": 2
}
