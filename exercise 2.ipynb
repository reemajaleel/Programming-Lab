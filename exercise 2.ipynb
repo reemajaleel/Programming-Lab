{
 "cells": [
  {
   "cell_type": "code",
   "execution_count": 9,
   "metadata": {},
   "outputs": [
    {
     "name": "stdout",
     "output_type": "stream",
     "text": [
      "enter the radius of circle:3\n",
      "area of circle is= 28.274333882308138\n"
     ]
    }
   ],
   "source": [
    "#program to computes the area by inputing the radius of circle\n",
    "import math\n",
    "r=int(input(\"enter the radius of circle:\"))\n",
    "area=math.pi*r*r\n",
    "print(\"area of circle is=\",area)"
   ]
  },
  {
   "cell_type": "code",
   "execution_count": 7,
   "metadata": {
    "scrolled": true
   },
   "outputs": [
    {
     "name": "stdout",
     "output_type": "stream",
     "text": [
      "enter the number:2\n",
      "sum is= 246\n"
     ]
    }
   ],
   "source": [
    "#program that accepts an integer(n) and computes the value of n+nn+nnn\n",
    "n=int(input(\"enter the number:\"))\n",
    "nn=(n*10)+2\n",
    "nnn=(n*100)+(n*10)+2\n",
    "s=n+nn+nnn\n",
    "print(\"sum is=\",s)"
   ]
  },
  {
   "cell_type": "code",
   "execution_count": null,
   "metadata": {},
   "outputs": [],
   "source": []
  },
  {
   "cell_type": "code",
   "execution_count": null,
   "metadata": {
    "collapsed": true
   },
   "outputs": [],
   "source": []
  }
 ],
 "metadata": {
  "kernelspec": {
   "display_name": "Python 3",
   "language": "python",
   "name": "python3"
  },
  "language_info": {
   "codemirror_mode": {
    "name": "ipython",
    "version": 3
   },
   "file_extension": ".py",
   "mimetype": "text/x-python",
   "name": "python",
   "nbconvert_exporter": "python",
   "pygments_lexer": "ipython3",
   "version": "3.6.3"
  }
 },
 "nbformat": 4,
 "nbformat_minor": 2
}
