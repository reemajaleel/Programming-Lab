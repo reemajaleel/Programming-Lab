{
 "cells": [
  {
   "cell_type": "code",
   "execution_count": 1,
   "metadata": {},
   "outputs": [
    {
     "name": "stdout",
     "output_type": "stream",
     "text": [
      "\n",
      "1.Square\n",
      "2.Rectangle\n",
      "3.Triangle\n",
      "4.Exit\n",
      "Enter any option : 1\n",
      "Enter the side of square: 2\n",
      "Area of square is:  4\n",
      "\n",
      "1.Square\n",
      "2.Rectangle\n",
      "3.Triangle\n",
      "4.Exit\n",
      "Enter any option : 2\n",
      "Enter the length of rectangle: 4\n",
      "Enter the breadth of rectangle: 2\n",
      "Area of rectangle is:  8\n",
      "\n",
      "1.Square\n",
      "2.Rectangle\n",
      "3.Triangle\n",
      "4.Exit\n",
      "Enter any option : 3\n",
      "Enter the base of triangle: 4\n",
      "Enter the height of triangle: 6\n",
      "Area of triangle is:  12.0\n",
      "\n",
      "1.Square\n",
      "2.Rectangle\n",
      "3.Triangle\n",
      "4.Exit\n",
      "Enter any option : 4\n",
      "Exiting...\n"
     ]
    }
   ],
   "source": [
    "#lambda  functions to get area of a square,rectangle,triangle\n",
    "sqarea=lambda a:a*a\n",
    "rectarea=lambda a,b:a*b\n",
    "triarea=lambda b,h:(b*h)/2\n",
    "while(1):\n",
    "    print(\"\\n1.Square\\n2.Rectangle\\n3.Triangle\\n4.Exit\")\n",
    "    ch=int(input(\"Enter any option : \"))\n",
    "    if ch==1:\n",
    "        a=int(input(\"Enter the side of square: \"))\n",
    "        print(\"Area of square is: \",sqarea(a))\n",
    "    elif ch==2:\n",
    "        a=int(input(\"Enter the length of rectangle: \"))\n",
    "        b=int(input(\"Enter the breadth of rectangle: \"))\n",
    "        print(\"Area of rectangle is: \",rectarea(a,b))\n",
    "    elif ch==3:\n",
    "        b=int(input(\"Enter the base of triangle: \"))\n",
    "        h=int(input(\"Enter the height of triangle: \"))\n",
    "        print(\"Area of triangle is: \",triarea(b,h))\n",
    "    else:\n",
    "        print(\"Exiting...\")\n",
    "        break;"
   ]
  },
  {
   "cell_type": "code",
   "execution_count": 2,
   "metadata": {},
   "outputs": [
    {
     "name": "stdout",
     "output_type": "stream",
     "text": [
      "Enter four digit lower range: 2345\n",
      "Enter four digit upper range: 5678\n",
      "List is:  [4624]\n"
     ]
    }
   ],
   "source": [
    "#generate a list of four digit numbers in agiven range with all their digits even and the number is a perfect square\n",
    "import math\n",
    "n1=int(input(\"Enter four digit lower range: \"))\n",
    "n2=int(input(\"Enter four digit upper range: \"))\n",
    "l=[]\n",
    "x=0\n",
    "for i in range(n1,n2):\n",
    "    x=i\n",
    "    while(x!=0):\n",
    "        k1=x%10\n",
    "        x=int(x/10)\n",
    "        k2=x%10\n",
    "        x=int(x/10)\n",
    "        k3=x%10\n",
    "        x=int(x/10)\n",
    "        k4=x%10\n",
    "        x=int(x/10)\n",
    "        sq=int(math.sqrt(i))\n",
    "        if sq*sq==i:\n",
    "            if k1%2==0 and k2%2==0 and k3%2==0 and k4%2==0:\n",
    "                l.append(i)\n",
    "print(\"List is: \",l)"
   ]
  },
  {
   "cell_type": "code",
   "execution_count": 5,
   "metadata": {},
   "outputs": [
    {
     "name": "stdout",
     "output_type": "stream",
     "text": [
      "Enter a word: loving\n",
      "The new word is:  lovingly\n"
     ]
    }
   ],
   "source": [
    "#add 'ing' at the end ofa given string. If it already ends with 'ing',then add 'ly'\n",
    "w=input(\"Enter a word: \")\n",
    "str1=w[-3:]\n",
    "if str1=='ing':\n",
    "    w=w+'ly'\n",
    "else:\n",
    "    w=w+'ing'\n",
    "print(\"The new word is: \",w)"
   ]
  },
  {
   "cell_type": "code",
   "execution_count": 6,
   "metadata": {},
   "outputs": [
    {
     "name": "stdout",
     "output_type": "stream",
     "text": [
      "Enter a list of comma-seperated words: hai,hello,welcome,programming\n",
      "Length of the longest word is:  11\n"
     ]
    }
   ],
   "source": [
    "#accept a list of words and return length of longest word\n",
    "w=[]\n",
    "wl=list(map(str,input(\"Enter a list of comma-seperated words: \").split(\",\")))\n",
    "for i in wl:\n",
    "    w.append(len(i))\n",
    "print(\"Length of the longest word is: \",max(w))"
   ]
  },
  {
   "cell_type": "code",
   "execution_count": null,
   "metadata": {
    "collapsed": true
   },
   "outputs": [],
   "source": []
  }
 ],
 "metadata": {
  "kernelspec": {
   "display_name": "Python 3",
   "language": "python",
   "name": "python3"
  },
  "language_info": {
   "codemirror_mode": {
    "name": "ipython",
    "version": 3
   },
   "file_extension": ".py",
   "mimetype": "text/x-python",
   "name": "python",
   "nbconvert_exporter": "python",
   "pygments_lexer": "ipython3",
   "version": "3.6.3"
  }
 },
 "nbformat": 4,
 "nbformat_minor": 2
}
