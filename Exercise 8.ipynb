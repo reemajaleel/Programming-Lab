{
 "cells": [
  {
   "cell_type": "code",
   "execution_count": 9,
   "metadata": {},
   "outputs": [
    {
     "name": "stdout",
     "output_type": "stream",
     "text": [
      "Enter first number : 10\n",
      "Enter second number : 10\n",
      "Enter third number : 10\n",
      "Sum thrice =  90\n"
     ]
    }
   ],
   "source": [
    "#python function to print sum thrice\n",
    "def sum_thrice(x,y,z):\n",
    "    if(x==y==z):\n",
    "        print(\"Sum thrice = \",(x+y+z)*3)\n",
    "    else:\n",
    "        print(\"Sum is = \",(x+y+z))\n",
    "x=int(input(\"Enter first number : \"))\n",
    "y=int(input(\"Enter second number : \"))\n",
    "z=int(input(\"Enter third number : \"))\n",
    "sum_thrice(x,y,z)"
   ]
  },
  {
   "cell_type": "code",
   "execution_count": 3,
   "metadata": {},
   "outputs": [
    {
     "name": "stdout",
     "output_type": "stream",
     "text": [
      "Enter the number : 123\n",
      "The sum of digits :  6\n"
     ]
    }
   ],
   "source": [
    "#function to find sum of digits of a number\n",
    "def getSum(n):\n",
    "    sum=0\n",
    "    for digit in str(n):\n",
    "        sum+=int(digit)\n",
    "    return sum\n",
    "n=int(input(\"Enter the number : \"))\n",
    "print(\"The sum of digits : \",getSum(n))"
   ]
  },
  {
   "cell_type": "code",
   "execution_count": 15,
   "metadata": {},
   "outputs": [
    {
     "name": "stdout",
     "output_type": "stream",
     "text": [
      "Enter the string : HeLLo. WorlD\n",
      "Upper case letters :  5\n",
      "Lower case letters :  5\n"
     ]
    }
   ],
   "source": [
    "#find number of upper and lower cases\n",
    "def case(w):\n",
    "    u=l=0\n",
    "    for i in w:\n",
    "        if i.isupper()==1:\n",
    "            u=u+1\n",
    "        elif i.islower()==1:\n",
    "            l=l+1\n",
    "    print(\"Upper case letters : \",u)\n",
    "    print(\"Lower case letters : \",l)\n",
    "s=input(\"Enter the string : \")\n",
    "case(s)"
   ]
  },
  {
   "cell_type": "code",
   "execution_count": 3,
   "metadata": {},
   "outputs": [
    {
     "name": "stdout",
     "output_type": "stream",
     "text": [
      "Enter a number : 20\n",
      "20 is not prime number\n"
     ]
    }
   ],
   "source": [
    "#function to find a number is prime or not\n",
    "def prime(n):\n",
    "    if n>1:\n",
    "        for i in range(2,int(n/2)+1):\n",
    "            if(n%i)==0:\n",
    "                print(n,\"is not prime number\")\n",
    "                break\n",
    "        else:\n",
    "            print(n,\"is a prime number\")\n",
    "    else:\n",
    "        print(n,\"is not prime number\")\n",
    "num=int(input(\"Enter a number : \"))\n",
    "prime(num);"
   ]
  },
  {
   "cell_type": "code",
   "execution_count": 7,
   "metadata": {},
   "outputs": [
    {
     "name": "stdout",
     "output_type": "stream",
     "text": [
      "Enter a year : 2020\n",
      "Enter another year : 2032\n",
      "2020  is a leap year\n",
      "2024  is a leap year\n",
      "2028  is a leap year\n",
      "2032  is a leap year\n"
     ]
    }
   ],
   "source": [
    "#leap years\n",
    "def leap(year):\n",
    "    for y in range(year1,year2+1):\n",
    "        if y%4==0 and (y%100!=0 or y%400==0):\n",
    "            print(y,\" is a leap year\")\n",
    "year1=int(input(\"Enter a year : \"))\n",
    "year2=int(input(\"Enter another year : \"))\n",
    "leap(year1)"
   ]
  },
  {
   "cell_type": "code",
   "execution_count": 10,
   "metadata": {},
   "outputs": [
    {
     "name": "stdout",
     "output_type": "stream",
     "text": [
      "Enter the name : Aparna\n",
      "Enter the salary : 0\n",
      "The name of the employee is :  Aparna , and the salary is :  8000\n"
     ]
    }
   ],
   "source": [
    "#function to display employee name and the salary\n",
    "def showEmployee(name,salary=8000):\n",
    "    print(\"The name of the employee is : \",name,\",\",\"and the salary is : \",salary)\n",
    "name=str(input(\"Enter the name : \"))\n",
    "salary=int(input(\"Enter the salary : \"))\n",
    "if salary>0:\n",
    "    showEmployee(name,salary)\n",
    "else:\n",
    "    showEmployee(name)"
   ]
  },
  {
   "cell_type": "code",
   "execution_count": 9,
   "metadata": {},
   "outputs": [
    {
     "name": "stdout",
     "output_type": "stream",
     "text": [
      "Enter the number of values : 5,6,8,3,-5,-1\n",
      "Minimum of entered item of value is :  -5\n"
     ]
    }
   ],
   "source": [
    "#function to accept a variable length of arguments and return the minimum among all argument values\n",
    "def minvalue(*a):\n",
    "    print(\"Minimum of entered item of value is : \",min(a))\n",
    "n=list(map(int,input(\"Enter the number of values : \").split(\",\")))\n",
    "t=tuple(n)\n",
    "minvalue(*t)"
   ]
  },
  {
   "cell_type": "code",
   "execution_count": 11,
   "metadata": {},
   "outputs": [
    {
     "name": "stdout",
     "output_type": "stream",
     "text": [
      "Enter number of people : 1\n",
      "Details for person :  1\n",
      "Enter the information you wish to provide : 2\n",
      "Enter any type of info : name\n",
      "Enter its value : Isha\n",
      "Enter any type of info : age\n",
      "Enter its value : 17\n",
      "{'name': 'Isha', 'age': '17'}\n",
      "\n",
      "\n"
     ]
    }
   ],
   "source": [
    "#user info\n",
    "def uinfo(**d1):\n",
    "    print(d1)\n",
    "    d.clear()\n",
    "    print(\"\\n\")\n",
    "d={}\n",
    "n=int(input(\"Enter number of people : \"))\n",
    "for i in range(n):\n",
    "    print(\"Details for person : \",i+1)\n",
    "    n2=int(input(\"Enter the information you wish to provide : \"))\n",
    "    for j in range(n2):\n",
    "        key=input(\"Enter any type of info : \")\n",
    "        val=input(\"Enter its value : \")\n",
    "        d.update({key:val})\n",
    "    uinfo(**d)"
   ]
  },
  {
   "cell_type": "code",
   "execution_count": null,
   "metadata": {
    "collapsed": true
   },
   "outputs": [],
   "source": []
  }
 ],
 "metadata": {
  "kernelspec": {
   "display_name": "Python 3",
   "language": "python",
   "name": "python3"
  },
  "language_info": {
   "codemirror_mode": {
    "name": "ipython",
    "version": 3
   },
   "file_extension": ".py",
   "mimetype": "text/x-python",
   "name": "python",
   "nbconvert_exporter": "python",
   "pygments_lexer": "ipython3",
   "version": "3.6.3"
  }
 },
 "nbformat": 4,
 "nbformat_minor": 2
}
